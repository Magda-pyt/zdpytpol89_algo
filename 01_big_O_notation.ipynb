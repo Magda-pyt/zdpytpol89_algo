{
 "cells": [
  {
   "cell_type": "markdown",
   "id": "75be2811-72ee-445b-9ed1-277b6d4e6f7e",
   "metadata": {},
   "source": [
    "## Wstęp do algorytmiki"
   ]
  },
  {
   "cell_type": "markdown",
   "id": "f8a9b53b-ad9c-4efa-a074-a54fe194acde",
   "metadata": {},
   "source": [
    "#### Zadanie 1\n",
    "Napisz funkcję, która zwraca pole kwadratu o zdanym boku."
   ]
  },
  {
   "cell_type": "code",
   "execution_count": null,
   "id": "507591bf-5ec8-44a5-899d-ab725ab4e70b",
   "metadata": {},
   "outputs": [],
   "source": [
    "...\n",
    "\n",
    "# Przykład użycia\n",
    "# area(4) -> 16\n",
    "# area(400) -> 160000"
   ]
  },
  {
   "cell_type": "markdown",
   "id": "7bb6c97d-77ac-4543-a9d6-4737a0415c90",
   "metadata": {},
   "source": [
    "#### Zadanie 2\n",
    "Znajdź największy wspólny dzielnik dwóch zadanych liczb."
   ]
  },
  {
   "cell_type": "code",
   "execution_count": null,
   "id": "e70a9dcf-1427-4439-8cc1-186c359f0974",
   "metadata": {},
   "outputs": [],
   "source": [
    "# Algorytm Euklidesa (opis słowny)\n",
    "\n",
    "# Dla dwóch liczb a, b\n",
    "# 1. powtarzaj dopóki b>0\n",
    "#       a -> b\n",
    "#       b -> a%b\n",
    "# 2. zwróć a\n",
    "\n",
    "...\n",
    "\n",
    "# Przykład użycia\n",
    "# nwd(16, 24) -> 8\n",
    "# nwd(16, 16) -> 16  # najlepszy przypadek"
   ]
  },
  {
   "cell_type": "markdown",
   "id": "f9c29913-789a-47b9-bf67-c79741597bf4",
   "metadata": {},
   "source": [
    "W jaki sposób możemy ocenić jakość naszego algorytmu?"
   ]
  },
  {
   "cell_type": "markdown",
   "id": "b84a909c-e2d4-4f55-9459-0a85a45d57f8",
   "metadata": {},
   "source": [
    "#### Zadanie 3\n",
    "\n",
    "Napisz funkcję która zsumuje wszystkie elementy od $1$ do $n$, gdzie $n$ jest parametrem wejściowym funkcji."
   ]
  },
  {
   "cell_type": "code",
   "execution_count": null,
   "id": "a8bd6063-1489-49b2-9073-c70091e22b09",
   "metadata": {},
   "outputs": [],
   "source": [
    "# rozwiązanie iteracyjne\n",
    "def sum1(n):\n",
    "    '''\n",
    "    Take an input of n and return the sum of the numbers from 0 to n\n",
    "    '''\n",
    "    ..."
   ]
  },
  {
   "cell_type": "code",
   "execution_count": null,
   "id": "9300101f-55aa-45f6-bf25-f33419901150",
   "metadata": {},
   "outputs": [],
   "source": [
    "sum1(100)"
   ]
  },
  {
   "cell_type": "markdown",
   "id": "ee8f46e8-c645-4846-b002-e562f1b90497",
   "metadata": {},
   "source": [
    "Ale, być może niektórzy z nas pamiętają jeszcze z podstawowego kursu matematyki wzór na sumę ciągu arytmetycznego."
   ]
  },
  {
   "cell_type": "markdown",
   "id": "22cb4a8e-6e8b-4a95-b7db-244ac73da7de",
   "metadata": {},
   "source": [
    "$$ \\sum_{i=0}^{n} {i} = \\frac{n(n+1)}{2} $$"
   ]
  },
  {
   "cell_type": "markdown",
   "id": "c67af3dd-f48a-4016-bb96-17dc6364839b",
   "metadata": {},
   "source": [
    "W oparciu o ten wzór możemy napisać inne, analityczne rozwiązanie."
   ]
  },
  {
   "cell_type": "code",
   "execution_count": null,
   "id": "5186e62c-85a4-446a-a73f-29ef1b4cd053",
   "metadata": {},
   "outputs": [],
   "source": [
    "def sum2(n):\n",
    "    \"\"\"\n",
    "    Take an input of n and return the sum of the numbers from 0 to n\n",
    "    \"\"\"\n",
    "    ..."
   ]
  },
  {
   "cell_type": "code",
   "execution_count": null,
   "id": "bb859d65-7638-4f5d-a724-b1d25b0c6ac2",
   "metadata": {},
   "outputs": [],
   "source": [
    "sum2(100)"
   ]
  },
  {
   "cell_type": "markdown",
   "id": "da7ba22c-16f6-4d6e-bc3a-53dcf37b4003",
   "metadata": {},
   "source": [
    "Oba rozwiązania są poprawne. Ale w jaki sposób możemy porównać ze sobą oba algorytmy ?"
   ]
  },
  {
   "cell_type": "markdown",
   "id": "19af0960-23bb-4725-a075-bc9c72ed7d58",
   "metadata": {},
   "source": [
    "Jednym ze sposobów może być analiza porównawcza."
   ]
  },
  {
   "cell_type": "markdown",
   "id": "ec785ed4-d634-4933-bfbc-25372bb4793a",
   "metadata": {},
   "source": [
    "## Analiza porównawcza\n",
    "\n",
    "Analiza porównawcza (*ang. benchmarking*) to technika polegająca na wielokrotnym wykonaniu analizowanego algorytmu dla stałych parametrów wejściowych, a następnie wyliczeniu średniego czasu działania tego algorytmu.\n",
    "\n",
    "W Pythonie mamy specjalne narzędzia pozwalające w prosty sposób wykonywać analizę porównawczą. W szczególności notatnik Jupter posiada wśród tzw. \"magicznych komend\" komendy dedykowane do analizy porównawczej: **%timeit**. Zobaczmy jak to działa."
   ]
  },
  {
   "cell_type": "code",
   "execution_count": null,
   "id": "a512f0ba-739c-4125-977b-fdc5aa33d3bb",
   "metadata": {},
   "outputs": [],
   "source": [
    "..."
   ]
  },
  {
   "cell_type": "code",
   "execution_count": null,
   "id": "48fccb69-cd48-477d-9783-d08ed4bfaa6a",
   "metadata": {},
   "outputs": [],
   "source": [
    "..."
   ]
  },
  {
   "cell_type": "markdown",
   "id": "f48d69a3-8096-48df-a401-838dde003eef",
   "metadata": {},
   "source": [
    "Widzimy, że algorytm `sum2` rozwiązuje zadanie wielokrotnie szybciej niż algorytm `sum1`, a wraz ze wzrostem $n$ spodziewamy się, że ta różnica będzie tylko większa.\n",
    "\n",
    "Ale czy ten sposób analizy jest niezawodny? \\\n",
    "Niestety nie. Zależy od maszyny, na którym uruchamiamy algorytm, od oprogramowania, które jest zainstalowane na tej maszynie, a nawet od zajętości zasobów (procesora) na tej maszynie. \n",
    "\n",
    "Czy w takim razie istnieje inny, bardziej niezawodny sposób na porównanie dwóch algorytmów? \\\n",
    "Tak, służy do tego tzw. złożoność obliczeniowa algorytmu."
   ]
  },
  {
   "cell_type": "markdown",
   "id": "9d163a18-95eb-4f28-bdcd-ccacd6e1c312",
   "metadata": {},
   "source": [
    "## Złożoność obliczeniowa"
   ]
  },
  {
   "cell_type": "markdown",
   "id": "aa79a300-7033-4296-81d4-234b3ac0fd24",
   "metadata": {},
   "source": [
    "### Co to złożoność obliczeniowa (**ang. computational complexity**) ?\n",
    "\n",
    "Złożność obliczeniowa algorytmu to miara określająca jak bardzo zwiększa się złożoność algorytmu wraz ze wzrostem wielkości parametru wejściowego. Podstawowy podział wyróżnia:\n",
    "- Czasową złożoność obliczenioweą (**ang. time computational complexity**) \\\n",
    "  Opisuje tempo wzrostu liczby operacji w funkcji rozmiaru wartości wejściowych. Innymi słowy czasowa złożność obliczeniowa mówi jak bardzo zwiększa się liczba potrzebnych do wykonania operacji wraz ze wzrostem rozmiaru parametru wejściowego (bardzo często tym parametrem jest kolekcja i wtedy patrzymy jak zmienia się liczba potrzebnych do wykonania operacji wraz ze wzrostem wielkości kolekcji).\n",
    "- Pamięciowa złożoność obliczeniowa (**ang. memory computational complexity**) \\\n",
    "  Opisuje jak zmienia się ilość pamięci wykorzystywanej przez algorytm do działania wraz ze wzrostem rozmiary parametru wejściowego."
   ]
  },
  {
   "cell_type": "markdown",
   "id": "47182d4f-374c-4976-b161-286a9ab0f636",
   "metadata": {},
   "source": [
    "Spójrzmy na algorytm `sum1`."
   ]
  },
  {
   "cell_type": "markdown",
   "id": "2f14dd15-b21e-4306-b421-21f683c948b9",
   "metadata": {},
   "source": [
    "Jeżeli n=1 to wykonamy:\n",
    "\n",
    "```\n",
    "    final_sum = 0  # 1\n",
    "    for x in range(n+1):  # 1 \n",
    "        final_sum += x  # 1\n",
    "    \n",
    "    return final_sum\n",
    "```\n",
    "\n",
    "3 operacje."
   ]
  },
  {
   "cell_type": "markdown",
   "id": "1bfa6bb9-03f0-4f4d-9664-3ff5d935bb75",
   "metadata": {},
   "source": [
    "Jeżeli n=10 to wykonamy:\n",
    "\n",
    "```\n",
    "    final_sum = 0  # 1\n",
    "    for x in range(n+1):  # 10 \n",
    "        final_sum += x  # 10\n",
    "    \n",
    "    return final_sum\n",
    "```\n",
    "\n",
    "21 operacji"
   ]
  },
  {
   "cell_type": "markdown",
   "id": "e0d9194a-b58a-4dc1-a438-d7f15c59c570",
   "metadata": {},
   "source": [
    "Jeżeli n = 100 to wykonamy:\n",
    "\n",
    "```\n",
    "    final_sum = 0  # 1\n",
    "    for x in range(n+1):  # 100\n",
    "        final_sum += x  # 100\n",
    "    \n",
    "    return final_sum\n",
    "```\n",
    "\n",
    "201 operacji"
   ]
  },
  {
   "cell_type": "markdown",
   "id": "4177c106-4cfe-4961-b987-d066a4651406",
   "metadata": {},
   "source": [
    "A jak wygląda to w przypadku algorytmu `sum2` ?"
   ]
  },
  {
   "cell_type": "markdown",
   "id": "78d26795-0be5-4833-b5d0-b5928b765975",
   "metadata": {},
   "source": [
    "Dla n = 1 mamy:\n",
    "\n",
    "```\n",
    "    return (n*(n+1))/2  # 3\n",
    "```\n",
    "\n",
    "3 operacje"
   ]
  },
  {
   "cell_type": "markdown",
   "id": "294fbb8a-584d-4d87-98f3-bfeb326c088c",
   "metadata": {},
   "source": [
    "Dla n = 10 mamy:\n",
    "\n",
    "```\n",
    "    return (n*(n+1))/2  # 3\n",
    "```\n",
    "\n",
    "3 operacje"
   ]
  },
  {
   "cell_type": "markdown",
   "id": "8defa781-56c6-43e9-acc9-ae1a10ea5a16",
   "metadata": {},
   "source": [
    "Dla n = 100 mamy:\n",
    "\n",
    "```\n",
    "    return (n*(n+1))/2  # 3\n",
    "```\n",
    "\n",
    "3 operacje"
   ]
  },
  {
   "cell_type": "markdown",
   "id": "e9eaf377-f2db-4518-8dc7-f524a2f32899",
   "metadata": {},
   "source": [
    "Zbierzmy to do tabelki i uzupełnijmy o jeszcze kilka wartości:\n",
    "\n",
    "\n",
    "| n | Liczba potrzebnych operacji w `sum1` | Liczba potrzebnych operacji w `sum2` |\n",
    "|---|:---:|:---:|\n",
    "| 1 | 3 | 3 |\n",
    "| 10 | 21 | 3 |\n",
    "| 50 | 101 | 3 |\n",
    "| 100 | 201 | 3 |\n",
    "| 150 | 301 | 3 |\n",
    "| 200 | 401 | 3 |\n",
    "| 1000 | 2001 | 3 |"
   ]
  },
  {
   "cell_type": "markdown",
   "id": "f1224fc4-b486-47bb-8629-38c237998d63",
   "metadata": {},
   "source": [
    "I to nazywamy czasową złożonością obliczeniową algorytmu.\n",
    "\n",
    "Tak wygląda sytuacja z użyciem procesora, czyli liczbą operacji, które musi wykonać procesor w funkcji wielkości parametru wejściowego `n`. A jak wygląda sytuacja z użyciem pamięci przez oba algorytmy ?"
   ]
  },
  {
   "cell_type": "markdown",
   "id": "4744b903-9939-4274-b7c4-4927fa7b3fbd",
   "metadata": {},
   "source": [
    "Jeżeli n=1 to potrzebujemy:\n",
    "\n",
    "```\n",
    "    final_sum = 0  # 1\n",
    "    for x in range(n+1):  # 1 \n",
    "        final_sum += x\n",
    "    \n",
    "    return final_sum\n",
    "```\n",
    "\n",
    "2 komórki pamięci."
   ]
  },
  {
   "cell_type": "markdown",
   "id": "9b7db980-cc85-47e4-b8ff-50cb3dedb2d5",
   "metadata": {},
   "source": [
    "Jeżeli n=10 to potrzebujemy:\n",
    "\n",
    "```\n",
    "    final_sum = 0  # 1\n",
    "    for x in range(n+1):  # 1 \n",
    "        final_sum += x\n",
    "    \n",
    "    return final_sum\n",
    "```\n",
    "\n",
    "2 komórki pamięci."
   ]
  },
  {
   "cell_type": "markdown",
   "id": "f596574f-ef7b-4c9a-8a50-fa6e063607f4",
   "metadata": {},
   "source": [
    "Jeżeli n=100 to potrzebujemy:\n",
    "\n",
    "```\n",
    "    final_sum = 0  # 1\n",
    "    for x in range(n+1):  # 1 \n",
    "        final_sum += x\n",
    "    \n",
    "    return final_sum\n",
    "```\n",
    "\n",
    "2 komórki pamięci."
   ]
  },
  {
   "cell_type": "markdown",
   "id": "170ff59e-da9c-4c5b-b0da-26d5555e4125",
   "metadata": {},
   "source": [
    "A w przypadku funkcji `sum2` ?"
   ]
  },
  {
   "cell_type": "markdown",
   "id": "885549d6-7a10-412a-b304-b97a28efaa3c",
   "metadata": {},
   "source": [
    "Jeżeli n=1 to potrzebujemy:\n",
    "\n",
    "```\n",
    "    return (n*(n+1))/2  # 1\n",
    "```\n",
    "\n",
    "1 komórkę pamięci."
   ]
  },
  {
   "cell_type": "markdown",
   "id": "4ce35513-e593-4b5f-99ca-96ca1d9ae26d",
   "metadata": {},
   "source": [
    "Jeżeli n=10 to potrzebujemy:\n",
    "\n",
    "```\n",
    "    return (n*(n+1))/2  # 1\n",
    "```\n",
    "\n",
    "1 komórkę pamięci."
   ]
  },
  {
   "cell_type": "markdown",
   "id": "be784a78-c910-4689-a047-9cd33bb8f6bb",
   "metadata": {},
   "source": [
    "Jeżeli n=100 to potrzebujemy:\n",
    "\n",
    "```\n",
    "    return (n*(n+1))/2  # 1\n",
    "```\n",
    "\n",
    "1 komórkę pamięci."
   ]
  },
  {
   "cell_type": "markdown",
   "id": "a0dd6524-c36a-416d-bd07-ade1b2c8dbf6",
   "metadata": {},
   "source": [
    "Zróbmy analogiczną tabelkę dla użycia pamięci."
   ]
  },
  {
   "cell_type": "markdown",
   "id": "095f0cc4-dba9-4a07-aa01-378de211d497",
   "metadata": {},
   "source": [
    "| n | Liczba potrzebnych operacji w `sum1` | Liczba potrzebnych operacji w `sum2` |\n",
    "|---|:---:|:---:|\n",
    "| 1 | 2 | 1 |\n",
    "| 10 | 2 | 1 |\n",
    "| 50 | 2 | 1 |\n",
    "| 100 | 2 | 1 |\n",
    "| 150 | 2 | 1 |\n",
    "| 200 | 2 | 1 |\n",
    "| 1000 | 2 | 1 |"
   ]
  },
  {
   "cell_type": "markdown",
   "id": "faf66b9c-7676-49a0-a4a2-807ab426c619",
   "metadata": {},
   "source": [
    "To nazywamy pamięciową złożoność obliczeniowa naszych algorytmów. \n",
    "\n",
    "Tak wygląda sytuacja z użyciem pamięci komputera przez nasze algorytmy w funkcji wielkości parametru wejściowego `n`.\n",
    "\n",
    "I moglibyśmy zakończyć na takim opisie słowno-tabelarycznym, ale opracowano bardzo wygodną notację do określania złożoności obliczeniowej, tzw. **notację dużego O**."
   ]
  },
  {
   "cell_type": "markdown",
   "id": "cd3444e2-9cf0-4f5d-97ad-7febc3a63b3f",
   "metadata": {},
   "source": [
    "## Notacja big-O\n",
    "https://en.wikipedia.org/wiki/Big_O_notation\n",
    "\n",
    "Notacja dużego O aka asymptotyczne tempo wzrostu, notacja Landaua, notacja Bachmanna–Landaua (*ang. big O notation aka asymptotic notation, Landau notation, Bachmann–Landau notation*) jest zwięzłym sposobem zapisu złożoności obliczniowej algorytmu i w skrócie polega na wskazaniu dominującego czynnika w złożoności obliczeniowej algorytmu."
   ]
  },
  {
   "cell_type": "markdown",
   "id": "5d7d8b14-2e9b-460b-b218-5faced15e36b",
   "metadata": {},
   "source": [
    "Mamy tabelki. \n",
    "\n",
    "Takie tabelki można przedstawić w postaci wykresów."
   ]
  },
  {
   "cell_type": "code",
   "execution_count": null,
   "id": "10e641a9-905d-4345-a99f-d406ac751e3c",
   "metadata": {},
   "outputs": [],
   "source": [
    "import numpy as np\n",
    "import matplotlib.pyplot as plt\n",
    "%matplotlib inline\n",
    "plt.style.use('bmh')\n",
    "\n",
    "# Set up runtime comparisons\n",
    "n = np.linspace(1,1000,1000)\n",
    "labels = ['sum1','sum2']\n",
    "big_o = [2*n+1,3*np.ones(n.shape)]\n",
    "\n",
    "# Plot setup\n",
    "plt.figure(figsize=(12,10))\n",
    "plt.ylim(0,2001)\n",
    "plt.xlim(0,1000)\n",
    "\n",
    "for i in range(len(big_o)):\n",
    "    plt.plot(n,big_o[i],label = labels[i])\n",
    "\n",
    "plt.legend(loc=0)\n",
    "plt.title('Czasowa złożonoć obliczeniowa')\n",
    "plt.xlabel('n');"
   ]
  },
  {
   "cell_type": "code",
   "execution_count": null,
   "id": "5ea21b96-2a40-4eab-8dc5-f9b597d5e58f",
   "metadata": {},
   "outputs": [],
   "source": [
    "import numpy as np\n",
    "import matplotlib.pyplot as plt\n",
    "%matplotlib inline\n",
    "plt.style.use('bmh')\n",
    "\n",
    "# Set up runtime comparisons\n",
    "n = np.linspace(1,1000,1000)\n",
    "labels = ['sum1','sum2']\n",
    "big_o = [2*np.ones(n.shape),np.ones(n.shape)]\n",
    "\n",
    "# Plot setup\n",
    "plt.figure(figsize=(12,10))\n",
    "plt.ylim(0, 5)\n",
    "plt.xlim(0, 1000)\n",
    "\n",
    "for i in range(len(big_o)):\n",
    "    plt.plot(n,big_o[i],label = labels[i])\n",
    "\n",
    "plt.legend(loc=0)\n",
    "plt.title('Pamięciowa złożonoć obliczeniowa')\n",
    "plt.xlabel('n');"
   ]
  },
  {
   "cell_type": "markdown",
   "id": "b06415f6-7527-4285-8f31-eeefd8c101ce",
   "metadata": {},
   "source": [
    "Wykresy dobrze oddają charakter obu algorytmów.\n",
    "\n",
    "Ale mamy jeszcze do tego odpowiedni zapis."
   ]
  },
  {
   "cell_type": "markdown",
   "id": "e5f0bd28-1a97-46ff-ae5e-faa2290fa0e3",
   "metadata": {},
   "source": [
    "To są przecież wykresy funkcji, a do funkcji a na podstawowym kursi matematyki poznaliśmy różne sposoby reprezentowania funkcji - tabelka, wykres, ale też i wzór."
   ]
  },
  {
   "cell_type": "markdown",
   "id": "55379e35-7d24-4c6b-9f08-4579910de75b",
   "metadata": {},
   "source": [
    "Liczba instrukcji podstawowych (w funkcji rozmiaru parametru wejściowego) dla `sum1`\n",
    "\n",
    "$T(n) = 1 + n \\cdot (1+1)$\n",
    "\n",
    "$T(n) = 2 \\cdot n + 1$"
   ]
  },
  {
   "cell_type": "markdown",
   "id": "d1dfa1d6-8667-4b82-ba53-c3af9db10540",
   "metadata": {},
   "source": [
    "Liczba instrukcji podstawowych (w funkcji rozmiaru parametru wejściowego) dla `sum2`\n",
    "\n",
    "$T(n) = 1 + 1 + 1$\n",
    "\n",
    "$T(n) = 3$"
   ]
  },
  {
   "cell_type": "markdown",
   "id": "53a74882-e493-4c9c-872c-bd50210b0163",
   "metadata": {},
   "source": [
    "Ale nas nie iteresuje dokładna liczba operacji. Nas interesuje jak szybko ta liczba rośnie wraz ze wzrostem `n`. Czyli, czy liczba opracji stoi w miejscu wraz ze wzrostem `n` czy się zmienia. A jeżeli się zmienia to jak szybko.\n",
    "\n",
    "A o tym informuje nas dominujący czynnik we wzorze na złożoność. Dominujący czynnik to ten, który wraz ze wzrostem `n` zaczyna odgrywać największy wpływ na wartość, podczas gdy inne stają się coraz mniej zauważalne.\n",
    "\n",
    "Spójrzmy na \n",
    "$$T(n) = 2 \\cdot n + 1$$\n",
    "\n",
    "Mamy tutaj dwa czynniki $2\\cdot n$ i $1$.\n",
    "\n",
    "Jaki jest ich wpływ do ostatecznego wynik wraz ze wzrostem `n`?\n",
    "\n",
    "| n | $2\\cdot n$ | 1 | wynik |\n",
    "| --- | --- | --- | --- |\n",
    "| 1 | 2 | 1 | 3 |\n",
    "| 10 | 20 | 1 | 21 |\n",
    "| 100 | 200 | 1 | 201 |\n",
    "| 1000 | 2000 | 1 | 2001 |\n",
    "| 10000 | 20000 | 1| 20001 |"
   ]
  },
  {
   "cell_type": "markdown",
   "id": "b73b8829-ae37-4866-b843-83fed702e9c3",
   "metadata": {},
   "source": [
    "Zdecydowanie $2\\cdot n$ jest dominującym czynnkiem.\n",
    "\n",
    "A w $2\\cdot n$ dominujący jest $n$. Bo nie ważne czy mówimy o **dwóch** tysiącach, czy o **dwóch** milardach. Ważne, że mówimy o **tysiącach**, czy **miliardach**.\n",
    "\n",
    "Podsumowując dominującym czynnikiem w `sum1` jest $n$, co zapisujemy:\n",
    "\n",
    "$$f(n) = n$$\n",
    "\n",
    "a w algorytmice:\n",
    "$$O(n)$$\n",
    "\n",
    "gdzie to co w nawiasach jest po prostu dominującym czynnikiem ze wzoru. Tą konkretną złożoność nazywamy **liniową**."
   ]
  },
  {
   "cell_type": "markdown",
   "id": "a3235128-91da-4e3f-941e-d3acfdceb750",
   "metadata": {},
   "source": [
    "A jak to wygląda w przypadku `sum2` ?\n",
    "\n",
    "$$T(n) = 3$$\n",
    "\n",
    "$$ f(n) = 1 $$\n",
    "\n",
    "$$O(1)$$\n",
    "\n",
    "Taką złożoność obliczeniową nazywamy **stałą**"
   ]
  },
  {
   "cell_type": "markdown",
   "id": "d2133036-2b81-4bab-beaf-ada9323ffc70",
   "metadata": {},
   "source": [
    "Na tym polega notacja dużego O."
   ]
  },
  {
   "cell_type": "markdown",
   "id": "e3e34ac4-fb83-40a6-bfa8-1777b19ee64f",
   "metadata": {},
   "source": [
    "Do najpopularniejszych złożoności obliczeniowych należą:\n",
    "\n",
    "<table>\n",
    "<tr>\n",
    "    <th><strong>Big-O</strong></th>\n",
    "    <th><strong>Nazwa</strong></th>\n",
    "</tr>\n",
    "<tr>\n",
    "    <td>$1$</td>\n",
    "    <td>Stała (<i>ang. constant</i>)</td>\n",
    "</tr>\n",
    "<tr>\n",
    "    <td>$\\log{n}$</td>\n",
    "    <td>Logarytmiczna (<i>ang. logarithmic</i>)</td>\n",
    "</tr>\n",
    "    <tr><td>$n$</td>\n",
    "    <td>Liniowa (<i>ang. linear</i>)</td>\n",
    "</tr>\n",
    "    <tr><td>$n\\cdot\\log{n}$</td>\n",
    "    <td>Liniowo-Logarytmiczna aka Quasi-liniowa (<i>ang. Log Linear</i>)</td>\n",
    "</tr>\n",
    "    <tr><td>$n^2$</td>\n",
    "    <td>Kwadratowa (<i>ang. quadratic</i>)</td>\n",
    "</tr>\n",
    "    <tr><td>$n^3$</td>\n",
    "    <td>Sześcienna (<i>ang. cubic</i>)</td>\n",
    "</tr>\n",
    "</tr>\n",
    "    <tr><td>$n^c$</td>\n",
    "    <td>Wielomianowa (<i>ang. polinomial</i>)</td>\n",
    "</tr>\n",
    "    <tr><td>$2^n$</td>\n",
    "    <td>Wykładnicza (<i>ang. exponential</i>)</td>\n",
    "</tr>\n",
    "</table>"
   ]
  },
  {
   "cell_type": "markdown",
   "id": "7eec3f97-6fb5-43ce-a2fc-957954eb480d",
   "metadata": {},
   "source": [
    "Nanieśmy je na wykres."
   ]
  },
  {
   "cell_type": "code",
   "execution_count": null,
   "id": "53999b4b-3f5c-416d-883c-9df49015291c",
   "metadata": {
    "scrolled": true
   },
   "outputs": [],
   "source": [
    "from math import log\n",
    "import numpy as np\n",
    "import matplotlib.pyplot as plt\n",
    "%matplotlib inline\n",
    "plt.style.use('bmh')\n",
    "\n",
    "# Set up runtime comparisons\n",
    "n = np.linspace(1,10,1000)\n",
    "labels = ['Constant','Logarithmic','Linear','Log Linear','Quadratic','Cubic','Exponential']\n",
    "big_o = [np.ones(n.shape),np.log(n),n,n*np.log(n),n**2,n**3,2**n]\n",
    "\n",
    "# Plot setup\n",
    "plt.figure(figsize=(12,10))\n",
    "plt.ylim(0,50)\n",
    "\n",
    "for i in range(len(big_o)):\n",
    "    plt.plot(n,big_o[i],label = labels[i])\n",
    "\n",
    "\n",
    "plt.legend(loc=0)\n",
    "plt.ylabel('Relative Runtime')\n",
    "plt.xlabel('n');"
   ]
  },
  {
   "cell_type": "markdown",
   "id": "f66b119a-e8c6-4b1f-80e8-9c0cd3df7b21",
   "metadata": {},
   "source": [
    "I przeważnie nas interesuje tylko to co dzieje się na prawo, w nieskończoność."
   ]
  },
  {
   "attachments": {
    "2c73a731-f230-4e8b-a5ff-0c1b9c2a2004.png": {
     "image/png": "[encoded data removed]"
    }
   },
   "cell_type": "markdown",
   "id": "a578b8cf-954d-4b42-a935-fc87402871b3",
   "metadata": {},
   "source": [
    "![image.png](attachment:2c73a731-f230-4e8b-a5ff-0c1b9c2a2004.png)\n",
    "https://www.bigocheatsheet.com/"
   ]
  },
  {
   "cell_type": "markdown",
   "id": "e9f40b6c-0f67-4b17-b13b-ae410c5cd64e",
   "metadata": {},
   "source": [
    "#### Zadanie 3\n",
    "Napisz funkcję liczącą silnie zadanego parametru."
   ]
  },
  {
   "cell_type": "code",
   "execution_count": null,
   "id": "e9831678-24a3-4bf3-972c-d0f9e0cf1bd9",
   "metadata": {},
   "outputs": [],
   "source": [
    "# Iteracyjnie\n",
    "def factorial_iter(n):\n",
    "    ..."
   ]
  },
  {
   "cell_type": "markdown",
   "id": "fe45a046-9a45-4164-a682-453f0641b5cf",
   "metadata": {},
   "source": [
    "### Oszacowanie złożoności obliczeniowej wersji iteracyjnej algorytmu\n",
    "\n",
    "**Analitycznie**:\n",
    "\n",
    "Liczba instrukcji podstawowych (w funkcji rozmiaru parametru wejściowego)\n",
    "\n",
    "$T(n) = 1 + n \\cdot (1+1+1)$\n",
    "\n",
    "$T(n) = 3 \\cdot n + 1$\n",
    "\n",
    "Czynnik dominujący w funkcji T(n) to n\n",
    "\n",
    "$f(n) = n$  \n",
    "\n",
    "$O(n)$ - liniowa złożoność obliczeniowa\n",
    "\n",
    "**Heurystycznie**:\n",
    "\n",
    "Zauważamy, że w algorytmie występuje pętla po wartościach od 1 do n, gdzie n to parametr wejściowy.\n",
    "Dlatego złożoność obliczoniowa algorytmu to O(n)"
   ]
  }
 ],
 "metadata": {
  "kernelspec": {
   "display_name": "Python 3 (ipykernel)",
   "language": "python",
   "name": "python3"
  },
  "language_info": {
   "codemirror_mode": {
    "name": "ipython",
    "version": 3
   },
   "file_extension": ".py",
   "mimetype": "text/x-python",
   "name": "python",
   "nbconvert_exporter": "python",
   "pygments_lexer": "ipython3",
   "version": "3.12.4"
  }
 },
 "nbformat": 4,
 "nbformat_minor": 5
}
